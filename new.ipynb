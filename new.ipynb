{
 "cells": [
  {
   "cell_type": "code",
   "execution_count": 6,
   "metadata": {},
   "outputs": [
    {
     "ename": "ValueError",
     "evalue": "could not convert string to float: ''",
     "output_type": "error",
     "traceback": [
      "\u001b[0;31m---------------------------------------------------------------------------\u001b[0m",
      "\u001b[0;31mValueError\u001b[0m                                Traceback (most recent call last)",
      "\u001b[1;32m/Users/nkunnu/Documents/NSK/new.ipynb Cell 1\u001b[0m line \u001b[0;36m1\n\u001b[1;32m      <a href='vscode-notebook-cell:/Users/nkunnu/Documents/NSK/new.ipynb#W0sZmlsZQ%3D%3D?line=0'>1</a>\u001b[0m \u001b[39m# Under 18.5 they are underweight\u001b[39;00m\n\u001b[1;32m      <a href='vscode-notebook-cell:/Users/nkunnu/Documents/NSK/new.ipynb#W0sZmlsZQ%3D%3D?line=1'>2</a>\u001b[0m \u001b[39m# Over 18.5 but below 25 they have a normal weight\u001b[39;00m\n\u001b[1;32m      <a href='vscode-notebook-cell:/Users/nkunnu/Documents/NSK/new.ipynb#W0sZmlsZQ%3D%3D?line=2'>3</a>\u001b[0m \u001b[39m# Equal to or over 25 but below 30 they are slightly overweight\u001b[39;00m\n\u001b[0;32m   (...)\u001b[0m\n\u001b[1;32m     <a href='vscode-notebook-cell:/Users/nkunnu/Documents/NSK/new.ipynb#W0sZmlsZQ%3D%3D?line=9'>10</a>\u001b[0m \u001b[39m# \"Your BMI is 32.56189, you are obese.\"\u001b[39;00m\n\u001b[1;32m     <a href='vscode-notebook-cell:/Users/nkunnu/Documents/NSK/new.ipynb#W0sZmlsZQ%3D%3D?line=10'>11</a>\u001b[0m \u001b[39m# \"Your BMI is 37.50000, you are clinically obese.\"\u001b[39;00m\n\u001b[0;32m---> <a href='vscode-notebook-cell:/Users/nkunnu/Documents/NSK/new.ipynb#W0sZmlsZQ%3D%3D?line=12'>13</a>\u001b[0m height \u001b[39m=\u001b[39m \u001b[39mfloat\u001b[39;49m(\u001b[39minput\u001b[39;49m(\u001b[39m\"\u001b[39;49m\u001b[39menter www\u001b[39;49m\u001b[39m\"\u001b[39;49m))\n\u001b[1;32m     <a href='vscode-notebook-cell:/Users/nkunnu/Documents/NSK/new.ipynb#W0sZmlsZQ%3D%3D?line=13'>14</a>\u001b[0m \u001b[39m# Enter your weight in kilograms e.g., 72\u001b[39;00m\n\u001b[1;32m     <a href='vscode-notebook-cell:/Users/nkunnu/Documents/NSK/new.ipynb#W0sZmlsZQ%3D%3D?line=14'>15</a>\u001b[0m weight \u001b[39m=\u001b[39m \u001b[39mint\u001b[39m(\u001b[39minput\u001b[39m(\u001b[39m\"\u001b[39m\u001b[39menyerdfvwdfv\u001b[39m\u001b[39m\"\u001b[39m))\n",
      "\u001b[0;31mValueError\u001b[0m: could not convert string to float: ''"
     ]
    }
   ],
   "source": [
    "# Under 18.5 they are underweight\n",
    "# Over 18.5 but below 25 they have a normal weight\n",
    "# Equal to or over 25 but below 30 they are slightly overweight\n",
    "# Equal to or over 30 but below 35 they are obese\n",
    "# Equal to or over 35 they are clinically obese.\n",
    "\n",
    "# \"Your BMI is 18.28678, you are underweight.\"\n",
    "# \"Your BMI is 22.0, you have a normal weight.\"\n",
    "# \"Your BMI is 28.50752, you are slightly overweight.\"\n",
    "# \"Your BMI is 32.56189, you are obese.\"\n",
    "# \"Your BMI is 37.50000, you are clinically obese.\"\n",
    "\n",
    "height = float(input(\"enter www\"))\n",
    "# Enter your weight in kilograms e.g., 72\n",
    "weight = int(input(\"enyerdfvwdfv\"))\n",
    "# 🚨 Don't change the code above 👆\n",
    "\n",
    "#Write your code below this line 👇\n",
    "BMI=weight/height**2\n",
    "if BMI <18.5:\n",
    "    print(f\"Your BMI is {BMI}, you are underweight. \")\n",
    "elif BMI<25:\n",
    "    print(f\"Your BMI is {BMI}, you have a normal weight.\")\n",
    "elif BMI>=25 and BMI < 30:\n",
    "    print(f\"Your BMI is {BMI}, you are slightly overweight.\")\n",
    "elif BMI>=30 and BMI < 35:\n",
    "    print(f\"Your BMI is {BMI}, you are obese.\")\n",
    "elif BMI >=35:\n",
    "    print(f\"Your BMI is {BMI}, you are clinically obese.\")\n",
    "\n"
   ]
  },
  {
   "cell_type": "code",
   "execution_count": null,
   "metadata": {},
   "outputs": [],
   "source": []
  }
 ],
 "metadata": {
  "kernelspec": {
   "display_name": "Python 3",
   "language": "python",
   "name": "python3"
  },
  "language_info": {
   "codemirror_mode": {
    "name": "ipython",
    "version": 3
   },
   "file_extension": ".py",
   "mimetype": "text/x-python",
   "name": "python",
   "nbconvert_exporter": "python",
   "pygments_lexer": "ipython3",
   "version": "3.11.1"
  }
 },
 "nbformat": 4,
 "nbformat_minor": 2
}
